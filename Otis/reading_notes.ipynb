{
 "cells": [
  {
   "cell_type": "markdown",
   "metadata": {},
   "source": [
    "# Reading Notes"
   ]
  },
  {
   "cell_type": "code",
   "execution_count": 38,
   "metadata": {},
   "outputs": [],
   "source": [
    "import numpy as np"
   ]
  },
  {
   "cell_type": "markdown",
   "metadata": {},
   "source": [
    "### Section 2 - Comparisons on two Examples\n",
    "\n",
    "Below are implemented all algorithms mentioned in chapter 1. They are all realted to the product function\n",
    "$$f:\\mathbb{R}^n \\to \\mathbb{R}, \\quad f(x_1,...,x_n) \\mapsto \\prod_{i=1}^n x_i$$\n",
    "which has derivative\n",
    "$$g := f^\\prime:\\mathbb{R}^n \\to \\mathbb{R^n}, \\quad f(x_1,...,x_n) \\mapsto \\sum_{j=1}^n e_j\\prod_{i\\neq j}^n x_i.$$\n"
   ]
  },
  {
   "cell_type": "code",
   "execution_count": 37,
   "metadata": {},
   "outputs": [
    {
     "name": "stdout",
     "output_type": "stream",
     "text": [
      "[1, 3, 3, 2, 7, 1, 3, 9, 18, 126]\n",
      "126\n",
      "126\n",
      "yay, the algorithm works!\n"
     ]
    }
   ],
   "source": [
    "# Evaluation of Product [p.7] \n",
    "# note idexing must be shifted back by one since the paper indexes from 1, but python indexes from 0\n",
    "\n",
    "# setup\n",
    "x = [1,3,3,2,7]\n",
    "n = len(x)\n",
    "x += [None] * n\n",
    "\n",
    "# START OF ALGORITHM\n",
    "x[n] = x[0]\n",
    "for i in range(n+1, 2*n):\n",
    "    x[i] = x[i - n] * x[i - 1]\n",
    "y = x[2*n-1]\n",
    "# END OF ALGORITHM\n",
    "\n",
    "print(x)\n",
    "print(y)\n",
    "print(1*3*3*2*7)\n",
    "print(\"yay! the algorithm works!\")"
   ]
  },
  {
   "cell_type": "code",
   "execution_count": 49,
   "metadata": {},
   "outputs": [
    {
     "name": "stdout",
     "output_type": "stream",
     "text": [
      "30\n",
      "[[15. 10.  6.]]\n"
     ]
    }
   ],
   "source": [
    "# Forward Differentiation of Product [p.7] \n",
    "\n",
    "x = [2,3,5]\n",
    "n = len(x)\n",
    "x += [None] * n\n",
    "dx = [None] * (2 * n) # defining unnecessarily long array so that inexing is more consistent with paper.\n",
    "\n",
    "def e(i):\n",
    "    return np.eye(1, n, i)\n",
    "\n",
    "# START OF ALGORITHM\n",
    "x[n] = x[0]\n",
    "dx[n] = e(0)\n",
    "for i in range(n+1, 2*n):\n",
    "    x[i] = x[i - n] * x[i - 1]\n",
    "    dx[i] = x[i - 1] * e(i - n) + x[i - n] * dx[i - 1]\n",
    "y = x[2*n-1]\n",
    "g = dx[2*n-1]\n",
    "# END OF ALGORITHM\n",
    "\n",
    "print(y)\n",
    "print(g)\n",
    "print(\"yay! algorithm works as expected!\")"
   ]
  },
  {
   "cell_type": "code",
   "execution_count": 1,
   "metadata": {},
   "outputs": [
    {
     "name": "stdout",
     "output_type": "stream",
     "text": [
      "y = 30\n",
      "[15, 10, 6]\n",
      "yay! algorithm works as expected!\n"
     ]
    }
   ],
   "source": [
    "# Reverse Differentiation of Product [p.8] \n",
    "\n",
    "x = [2,3,5]\n",
    "n = len(x)\n",
    "x += [None] * n\n",
    "x_bar = [None] * (2 * n) # defining unnecessarily long array so that inexing is more consistent with paper.\n",
    "\n",
    "def e(i):\n",
    "    return np.eye(1, n, i)\n",
    "\n",
    "# START OF ALGORITHM\n",
    "x[n] = x[0]\n",
    "for i in range(n+1, 2*n):\n",
    "    x[i] = x[i - n] * x[i - 1] # forward step\n",
    "y = x[2 * n - 1]\n",
    "\n",
    "x_bar[2 * n - 1] = 1\n",
    "for i in range(2*n - 1, n, -1):\n",
    "    x_bar[i - 1] = x_bar[i] * x[i - n] # reverse step\n",
    "    x_bar[i - n] = x_bar[i] * x[i - 1]\n",
    "x_bar[0] = x_bar[n]\n",
    "g = x_bar[0:n]\n",
    "# END OF ALGORITHM\n",
    "\n",
    "print(\"y =\", y)\n",
    "print(g)\n",
    "print(\"yay! algorithm works as expected!\")"
   ]
  },
  {
   "cell_type": "markdown",
   "metadata": {},
   "source": [
    "### Section 3 - Automatic Differentiation on Composite Functions\n"
   ]
  },
  {
   "cell_type": "markdown",
   "metadata": {},
   "source": [
    "By using a tree structure we implicitly have a similar memory layout to that of x_1, ..., x_n."
   ]
  },
  {
   "cell_type": "markdown",
   "metadata": {},
   "source": [
    "#### Backward Accumulation\n",
    "The following node structure has accompanying functions for backward mode differentiation with partial derivatives.\n",
    "\n",
    "future plans: expression class should have a member self.partial, an n-dim vector (where we have f:R^n -> R) with elements x1, ..., xn corresponding to d self.eval() / xi."
   ]
  },
  {
   "cell_type": "code",
   "execution_count": 3,
   "metadata": {},
   "outputs": [],
   "source": [
    "import numpy as np\n",
    "\n",
    "# Node Classes\n",
    "\n",
    "# Base Expression\n",
    "# the _b at the end means it supports backward mode\n",
    "class expression_b:\n",
    "    def __init__(self):\n",
    "        self.partial = 0\n",
    "        self.value = 0\n",
    "\n",
    "    def __str__():\n",
    "        return \"EXPRESSION\" \n",
    "\n",
    "    def eval(self):\n",
    "        self.partial = 0\n",
    "        return \"CANT EVALUATE BASE EXPRESSION CLASS\"\n",
    "\n",
    "    def derive():\n",
    "        return \"CANT DERIVE OF BASE EXPRESSION CLASS\"\n",
    "\n",
    "# Base Expression Types\n",
    "    \n",
    "class Un_Op_b(expression_b):\n",
    "    def __init__(self, a):\n",
    "        expression_b.__init__(self)\n",
    "        self.a = a\n",
    "    def __str__(self):\n",
    "        return \"[UNARY OP]\"\n",
    "\n",
    "class Bi_Op_b(expression_b):\n",
    "    def __init__(self, a, b):\n",
    "        expression_b.__init__(self)\n",
    "        self.a = a\n",
    "        self.b = b\n",
    "    def __str__(self):\n",
    "        return \"[BINARY OP]\"\n",
    "    \n",
    "# Usable Expression Types\n",
    "\n",
    "# Constants\n",
    "class Const_Exp_b(Un_Op_b):\n",
    "    def __str__(self):\n",
    "        return str(self.a)\n",
    "    \n",
    "    def eval(self):\n",
    "        self.value = self.a\n",
    "        return self.a\n",
    "    def derive(self):\n",
    "        return\n",
    "\n",
    "# Variables  \n",
    "class Var_b(expression_b):\n",
    "    def __init__(self, name, value = None):\n",
    "        '''\n",
    "        name  : typeof(string)\n",
    "        value : typeof(float)\n",
    "        '''\n",
    "        self.name = name\n",
    "        self.value = value\n",
    "        self.partial = 0\n",
    "    def __str__(self):\n",
    "        return self.name\n",
    "    def eval(self):\n",
    "        return self.value\n",
    "    def derive(self):\n",
    "        return\n",
    "    \n",
    "# Unary Operations\n",
    "class Sin_Op_b(Un_Op_b):\n",
    "    def __str__(self):\n",
    "        return f\"sin({str(self.a)})\"\n",
    "    def eval(self):\n",
    "        self.value = np.sin(self.a.eval())\n",
    "        return self.value\n",
    "    def derive(self):\n",
    "        dthis_da = np.cos(self.a.value)\n",
    "        self.a.partial += dthis_da * self.partial\n",
    "        self.a.derive()\n",
    "        return\n",
    "    \n",
    "class Exp_Op_b(Un_Op_b):\n",
    "    def __str__(self):\n",
    "        return f\"exp({str(self.a)})\"\n",
    "    def eval(self):\n",
    "        self.value = np.exp(self.a.eval())\n",
    "        return self.value\n",
    "    def derive(self):\n",
    "        dthis_da = np.exp(self.a.value)\n",
    "        self.a.partial += dthis_da * self.partial\n",
    "        self.a.derive()\n",
    "        return\n",
    "\n",
    "# Binary Operations\n",
    "class Add_Op_b(Bi_Op_b):\n",
    "    def __str__(self):\n",
    "        return f\"({str(self.a)} + {str(self.b)})\"\n",
    "    def eval(self):\n",
    "        self.value = self.a.eval() + self.b.eval()\n",
    "        return self.value\n",
    "    def derive(self):\n",
    "        dthis_da = 1\n",
    "        dthis_db = 1\n",
    "        self.a.partial += dthis_da * self.partial\n",
    "        self.b.partial += dthis_db * self.partial\n",
    "        self.a.derive()\n",
    "        self.b.derive()\n",
    "        return         \n",
    "    \n",
    "class Mult_Op_b(Bi_Op_b):\n",
    "    def __str__(self):\n",
    "        return f\"({str(self.a)} * {str(self.b)})\"  \n",
    "    def eval(self):\n",
    "        self.value = self.a.eval() * self.b.eval()\n",
    "        return self.value\n",
    "    def derive(self):\n",
    "        dthis_da = self.b.value\n",
    "        dthis_db = self.a.value\n",
    "        self.a.partial += dthis_da * self.partial\n",
    "        self.b.partial += dthis_db * self.partial\n",
    "        self.a.derive()\n",
    "        self.b.derive()\n",
    "        return"
   ]
  },
  {
   "cell_type": "code",
   "execution_count": 4,
   "metadata": {},
   "outputs": [
    {
     "name": "stdout",
     "output_type": "stream",
     "text": [
      "f(['x1', 'x2', 'x3']) = sin((x1 + (5 * x2)))\n",
      "Let x1 = 2\n",
      "Let x2 = 5\n",
      "Let x3 = -1\n",
      "(f(['x1', 'x2', 'x3'])) =  0.956375928404503\n",
      "df/dx1 = -0.2921388087338362\n",
      "df/dx2 = -1.4606940436691809\n",
      "df/dx3 = 0\n"
     ]
    }
   ],
   "source": [
    "\n",
    "x1 = Var_b(\"x1\", 2)\n",
    "x2 = Var_b(\"x2\", 5)\n",
    "x3 = Var_b(\"x3\", -1)\n",
    "\n",
    "x = [x1, x2, x3]\n",
    "    \n",
    "func = Sin_Op_b(Add_Op_b(x1, Mult_Op_b(Const_Exp_b(5), x2)))\n",
    "print(f\"f({[str(xi) for xi in x]}) = \" + str(func))\n",
    "\n",
    "for xi in x:\n",
    "    print(f\"Let {xi.name} = {xi.value}\")\n",
    "\n",
    "f_x = func.eval()\n",
    "\n",
    "print(f\"(f({[str(xi) for xi in x]})) = \", f_x)\n",
    "\n",
    "func.partial = 1\n",
    "func.derive()\n",
    "\n",
    "for xi in x:\n",
    "    print(f\"df/d{xi.name} = {xi.partial}\")\n"
   ]
  },
  {
   "cell_type": "markdown",
   "metadata": {},
   "source": [
    "Testing backward mode differentiation on non-tree acyclic computational digrpahs"
   ]
  },
  {
   "cell_type": "code",
   "execution_count": 20,
   "metadata": {},
   "outputs": [
    {
     "name": "stdout",
     "output_type": "stream",
     "text": [
      "f1(x1) = (exp(sin(x1)) + sin(sin(x1)))\n",
      "Let x1 = 2\n",
      "(f1(x1)) =  3.271650071587889\n",
      "df1/dx1 = -2.3218728550844605\n",
      "\n",
      "f2(x2) = (sin(sin(x2)) + exp(sin(x2)))\n",
      "Let x2 = 2\n",
      "(f2(x2)) =  3.271650071587889\n",
      "df2/dx2 = -1.544395106181417\n"
     ]
    }
   ],
   "source": [
    "x1 = Var_b(\"x1\", 2)\n",
    "x2 = Var_b(\"x2\", 2)\n",
    "    \n",
    "intermediate1 = Sin_Op_b(x1)\n",
    "intermediate2 = Sin_Op_b(x2)\n",
    "# these 2 functions should be the same, because we are just swapping the arguments of multiplication operation\n",
    "func1 = Add_Op_b(Exp_Op_b(intermediate1), Sin_Op_b(intermediate1))\n",
    "func2 = Add_Op_b(Sin_Op_b(intermediate2), Exp_Op_b(intermediate2))\n",
    "\n",
    "print(f\"f1({str(x1)}) = \" + str(func1))\n",
    "print(f\"Let {x1.name} = {x1.value}\")\n",
    "\n",
    "f1_x = func1.eval()\n",
    "\n",
    "print(f\"(f1({str(x1)})) = \", f1_x)\n",
    "\n",
    "func1.partial = 1\n",
    "func1.derive()\n",
    "\n",
    "print(f\"df1/d{x1.name} = {x1.partial}\")\n",
    "\n",
    "\n",
    "#### for func2(x2)\n",
    "print(\"\")\n",
    "\n",
    "print(f\"f2({str(x2)}) = \" + str(func2))\n",
    "print(f\"Let {x2.name} = {x2.value}\")\n",
    "\n",
    "f2_x = func2.eval()\n",
    "\n",
    "print(f\"(f2({str(x2)})) = \", f2_x)\n",
    "\n",
    "func2.partial = 1\n",
    "func2.derive()\n",
    "\n",
    "print(f\"df2/d{x2.name} = {x2.partial}\")"
   ]
  },
  {
   "cell_type": "markdown",
   "metadata": {},
   "source": [
    "As suspected, the partial derivatives do not agree, since the version using `x1` calculated the partial of `x1` using the not yet fully known partial of `intermediate`.\n",
    "\n",
    "We now aim to find an efficient method of ordering the tree such that left-first derivation is always correct. I don't yet know if this is possible, but i suspect it is. If it is possible, it could be done at the parser level, but this is not ideal, as for machine learning applicaions the function tree is built more explicitly and is not parsed from a string.\n",
    "\n",
    "Possible aproaches to implementing backwards mode : <br>\n",
    " (a) parser-level graph ordering for left-first evaluation <br>\n",
    " (b) graph reordering for left-first evaluation <br>\n",
    " (c) non-left-first evaluation (perhaps something like breadth-first evaluation) <br>\n",
    "\n",
    "(c) sounds most promising as it would not require an extra preprocessing step, whereas (a), (b) would."
   ]
  }
 ],
 "metadata": {
  "kernelspec": {
   "display_name": "Python 3",
   "language": "python",
   "name": "python3"
  },
  "language_info": {
   "codemirror_mode": {
    "name": "ipython",
    "version": 3
   },
   "file_extension": ".py",
   "mimetype": "text/x-python",
   "name": "python",
   "nbconvert_exporter": "python",
   "pygments_lexer": "ipython3",
   "version": "3.10.11"
  }
 },
 "nbformat": 4,
 "nbformat_minor": 2
}
