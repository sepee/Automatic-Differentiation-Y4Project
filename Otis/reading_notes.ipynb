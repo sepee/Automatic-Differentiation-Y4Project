{
 "cells": [
  {
   "cell_type": "markdown",
   "metadata": {},
   "source": [
    "# Reading Notes"
   ]
  },
  {
   "cell_type": "code",
   "execution_count": 38,
   "metadata": {},
   "outputs": [],
   "source": [
    "import numpy as np"
   ]
  },
  {
   "cell_type": "markdown",
   "metadata": {},
   "source": [
    "### Section 2 - Comparisons on two Examples\n",
    "\n",
    "Below are implemented all algorithms mentioned in chapter 1. They are all realted to the product function\n",
    "$$f:\\mathbb{R}^n \\to \\mathbb{R}, \\quad f(x_1,...,x_n) \\mapsto \\prod_{i=1}^n x_i$$\n",
    "which has derivative\n",
    "$$g := f^\\prime:\\mathbb{R}^n \\to \\mathbb{R^n}, \\quad f(x_1,...,x_n) \\mapsto \\sum_{j=1}^n e_j\\prod_{i\\neq j}^n x_i.$$\n"
   ]
  },
  {
   "cell_type": "code",
   "execution_count": 37,
   "metadata": {},
   "outputs": [
    {
     "name": "stdout",
     "output_type": "stream",
     "text": [
      "[1, 3, 3, 2, 7, 1, 3, 9, 18, 126]\n",
      "126\n",
      "126\n",
      "yay, the algorithm works!\n"
     ]
    }
   ],
   "source": [
    "# Evaluation of Product [p.7] \n",
    "# note idexing must be shifted back by one since the paper indexes from 1, but python indexes from 0\n",
    "\n",
    "# setup\n",
    "x = [1,3,3,2,7]\n",
    "n = len(x)\n",
    "x += [None] * n\n",
    "\n",
    "# START OF ALGORITHM\n",
    "x[n] = x[0]\n",
    "for i in range(n+1, 2*n):\n",
    "    x[i] = x[i - n] * x[i - 1]\n",
    "y = x[2*n-1]\n",
    "# END OF ALGORITHM\n",
    "\n",
    "print(x)\n",
    "print(y)\n",
    "print(1*3*3*2*7)\n",
    "print(\"yay! the algorithm works!\")"
   ]
  },
  {
   "cell_type": "code",
   "execution_count": 49,
   "metadata": {},
   "outputs": [
    {
     "name": "stdout",
     "output_type": "stream",
     "text": [
      "30\n",
      "[[15. 10.  6.]]\n"
     ]
    }
   ],
   "source": [
    "# Forward Differentiation of Product [p.7] \n",
    "\n",
    "x = [2,3,5]\n",
    "n = len(x)\n",
    "x += [None] * n\n",
    "dx = [None] * (2 * n) # defining unnecessarily long array so that inexing is more consistent with paper.\n",
    "\n",
    "def e(i):\n",
    "    return np.eye(1, n, i)\n",
    "\n",
    "# START OF ALGORITHM\n",
    "x[n] = x[0]\n",
    "dx[n] = e(0)\n",
    "for i in range(n+1, 2*n):\n",
    "    x[i] = x[i - n] * x[i - 1]\n",
    "    dx[i] = x[i - 1] * e(i - n) + x[i - n] * dx[i - 1]\n",
    "y = x[2*n-1]\n",
    "g = dx[2*n-1]\n",
    "# END OF ALGORITHM\n",
    "\n",
    "print(y)\n",
    "print(g)\n",
    "print(\"yay! algorithm works as expected!\")"
   ]
  },
  {
   "cell_type": "code",
   "execution_count": 58,
   "metadata": {},
   "outputs": [
    {
     "name": "stdout",
     "output_type": "stream",
     "text": [
      "y = 30\n",
      "[15, 10, 6]\n",
      "yay! algorithm works as expected!\n"
     ]
    }
   ],
   "source": [
    "# Reverse Differentiation of Product [p.8] \n",
    "\n",
    "x = [2,3,5]\n",
    "n = len(x)\n",
    "x += [None] * n\n",
    "x_bar = [None] * (2 * n) # defining unnecessarily long array so that inexing is more consistent with paper.\n",
    "\n",
    "def e(i):\n",
    "    return np.eye(1, n, i)\n",
    "\n",
    "# START OF ALGORITHM\n",
    "x[n] = x[0]\n",
    "for i in range(n+1, 2*n):\n",
    "    x[i] = x[i - n] * x[i - 1] # forward step\n",
    "y = x[2 * n - 1]\n",
    "\n",
    "x_bar[2 * n - 1] = 1\n",
    "for i in range(2*n - 1, n, -1):\n",
    "    x_bar[i - 1] = x_bar[i] * x[i - n] # reverse step\n",
    "    x_bar[i - n] = x_bar[i] * x[i - 1]\n",
    "x_bar[0] = x_bar[n]\n",
    "g = x_bar[0:n]\n",
    "# END OF ALGORITHM\n",
    "\n",
    "print(\"y =\", y)\n",
    "print(g)\n",
    "print(\"yay! algorithm works as expected!\")"
   ]
  },
  {
   "cell_type": "markdown",
   "metadata": {},
   "source": [
    "### Section 3 - Automatic Differentiation on Composite Functions\n"
   ]
  },
  {
   "cell_type": "code",
   "execution_count": null,
   "metadata": {},
   "outputs": [],
   "source": []
  }
 ],
 "metadata": {
  "kernelspec": {
   "display_name": "Python 3",
   "language": "python",
   "name": "python3"
  },
  "language_info": {
   "codemirror_mode": {
    "name": "ipython",
    "version": 3
   },
   "file_extension": ".py",
   "mimetype": "text/x-python",
   "name": "python",
   "nbconvert_exporter": "python",
   "pygments_lexer": "ipython3",
   "version": "3.10.11"
  }
 },
 "nbformat": 4,
 "nbformat_minor": 2
}
