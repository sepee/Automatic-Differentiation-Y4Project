{
 "cells": [
  {
   "cell_type": "code",
   "execution_count": 4,
   "metadata": {},
   "outputs": [
    {
     "name": "stdout",
     "output_type": "stream",
     "text": [
      "a\n",
      "├── b\n",
      "│   └── d\n",
      "└── c\n",
      "     ┌─ b ─── d\n",
      "─ a ─┤\n",
      "     └─ c\n"
     ]
    },
    {
     "data": {
      "text/plain": [
       "<MagicMock name='mock.Dot().write_png()' id='2137742063312'>"
      ]
     },
     "execution_count": 4,
     "metadata": {},
     "output_type": "execute_result"
    }
   ],
   "source": [
    "from bigtree import Node, tree_to_dot\n",
    "\n",
    "root = Node(\"a\")\n",
    "b = Node(\"b\")\n",
    "c = Node(\"c\")\n",
    "d = Node(\"d\")\n",
    "\n",
    "root.children = [b, c]\n",
    "d.parent = b\n",
    "\n",
    "root.show()\n",
    "# a\n",
    "# ├── b\n",
    "# │   └── d\n",
    "# └── c\n",
    "\n",
    "root.hshow()\n",
    "#      ┌─ b ─── d\n",
    "# ─ a ─┤\n",
    "#      └─ c\n",
    "\n",
    "graph = tree_to_dot(root, node_colour=\"gold\")\n",
    "graph.write_png(\"tree.png\")\n"
   ]
  }
 ],
 "metadata": {
  "kernelspec": {
   "display_name": "Python 3",
   "language": "python",
   "name": "python3"
  },
  "language_info": {
   "codemirror_mode": {
    "name": "ipython",
    "version": 3
   },
   "file_extension": ".py",
   "mimetype": "text/x-python",
   "name": "python",
   "nbconvert_exporter": "python",
   "pygments_lexer": "ipython3",
   "version": "3.10.11"
  }
 },
 "nbformat": 4,
 "nbformat_minor": 2
}
