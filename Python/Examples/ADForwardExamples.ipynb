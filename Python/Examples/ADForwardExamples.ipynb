{
 "cells": [
  {
   "cell_type": "markdown",
   "metadata": {},
   "source": [
    "#### Forward Accumulation\n",
    "The Following node structure has accompanying functions for the forward mode differentiation"
   ]
  },
  {
   "cell_type": "code",
   "execution_count": 1,
   "metadata": {},
   "outputs": [
    {
     "name": "stdout",
     "output_type": "stream",
     "text": [
      "f(x) = ln((x * 2))\n",
      "(f(x), f'(x)) =  (1.3862943611198906, 0.5)\n",
      "yay! this is the correct (f(x), f'(x)) according to wolframalpha\n"
     ]
    }
   ],
   "source": [
    "import sys\n",
    "import os\n",
    "sys.path.append(os.path.abspath('../'))\n",
    "from ADForward import *\n",
    "    \n",
    "x = Var_Exp(\"x\", 2)\n",
    "#to change the value of x later, use e.g. `x.value = 5`\n",
    "\n",
    "func = Log_Op(Mult_Op(x, Const_Exp(2)))\n",
    "\n",
    "print(\"f(x) = \" + str(func))\n",
    "print(\"(f(x), f'(x)) = \", func.diff())\n",
    "\n",
    "print(\"yay! this is the correct (f(x), f'(x)) according to wolframalpha\")"
   ]
  }
 ],
 "metadata": {
  "kernelspec": {
   "display_name": "Python 3",
   "language": "python",
   "name": "python3"
  },
  "language_info": {
   "codemirror_mode": {
    "name": "ipython",
    "version": 3
   },
   "file_extension": ".py",
   "mimetype": "text/x-python",
   "name": "python",
   "nbconvert_exporter": "python",
   "pygments_lexer": "ipython3",
   "version": "3.10.11"
  }
 },
 "nbformat": 4,
 "nbformat_minor": 2
}
